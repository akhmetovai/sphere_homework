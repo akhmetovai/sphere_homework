{
  "nbformat": 4,
  "nbformat_minor": 0,
  "metadata": {
    "colab": {
      "name": "HW10",
      "provenance": []
    },
    "kernelspec": {
      "name": "python3",
      "display_name": "Python 3"
    }
  },
  "cells": [
    {
      "cell_type": "code",
      "metadata": {
        "id": "cnLC5PCChcZN",
        "colab_type": "code",
        "colab": {
          "base_uri": "https://localhost:8080/",
          "height": 51
        },
        "outputId": "8119b0d6-dfcf-4ae7-9eb1-2a4cc892593d"
      },
      "source": [
        "import pandas as pd\n",
        "import numpy as np\n",
        "import seaborn as sns\n",
        "import matplotlib.pyplot as plt\n",
        "import scipy.stats as stats"
      ],
      "execution_count": 1,
      "outputs": [
        {
          "output_type": "stream",
          "text": [
            "/usr/local/lib/python3.6/dist-packages/statsmodels/tools/_testing.py:19: FutureWarning: pandas.util.testing is deprecated. Use the functions in the public API at pandas.testing instead.\n",
            "  import pandas.util.testing as tm\n"
          ],
          "name": "stderr"
        }
      ]
    },
    {
      "cell_type": "markdown",
      "metadata": {
        "id": "K07anAO6g5Mo",
        "colab_type": "text"
      },
      "source": [
        "1. Попробуйте попарно сравнить между собой 4,5,10,20 нормально распределенных\n",
        "выборок с равным средним и сигмой без использования поправок. Что получилось?"
      ]
    },
    {
      "cell_type": "code",
      "metadata": {
        "id": "P7o8cm6ZZrzY",
        "colab_type": "code",
        "colab": {}
      },
      "source": [
        "n = 10 # количество сгенерированных выборок\n",
        "ex = [0]*n\n",
        "\n",
        "for i in range(n):\n",
        "  ex[i] = np.random.normal(100,10,1000)"
      ],
      "execution_count": 0,
      "outputs": []
    },
    {
      "cell_type": "code",
      "metadata": {
        "id": "9E7KrfnoiU3F",
        "colab_type": "code",
        "colab": {}
      },
      "source": [
        "def ttest(a,b):\n",
        "    mean_diff = np.mean(a) - np.mean(b)\n",
        "    n1 = len(a)\n",
        "    n2 = len(b)\n",
        "    sd_a = np.sqrt(np.var(a,ddof = 1))\n",
        "    sd_b = np.sqrt(np.var(b,ddof = 1))\n",
        "    sem = np.sqrt(sd_a**2/n1 + sd_b**2/n2)\n",
        "    t = mean_diff/sem\n",
        "    df = (n1 + n2) - 2\n",
        "    p = stats.t.cdf(-abs(t), df) * 2 \n",
        "    if p > 0.05:\n",
        "        #print('Нет статистически значимой разницы','\\nt - критерий = ',t,'\\np-value =',p)\n",
        "        pass\n",
        "    else:\n",
        "        print(i, j)\n",
        "        print('Есть статистически значимая разница','\\nt - критерий = ',t,'\\np-value =',p)\n",
        " \n",
        "    return "
      ],
      "execution_count": 0,
      "outputs": []
    },
    {
      "cell_type": "code",
      "metadata": {
        "id": "NyfZ2cFgiXz6",
        "colab_type": "code",
        "colab": {
          "base_uri": "https://localhost:8080/",
          "height": 221
        },
        "outputId": "ef0fb797-b982-4490-bd2c-8c1e0dfd9b8a"
      },
      "source": [
        "for i in range(n):\n",
        "  for j in range(i, n):\n",
        "    ttest(ex[i],ex[j])"
      ],
      "execution_count": 20,
      "outputs": [
        {
          "output_type": "stream",
          "text": [
            "3 4\n",
            "Есть статистически значимая разница \n",
            "t - критерий =  -2.089046798505155 \n",
            "p-value = 0.03682975995053189\n",
            "4 7\n",
            "Есть статистически значимая разница \n",
            "t - критерий =  2.295951380427009 \n",
            "p-value = 0.02178176028079762\n",
            "4 9\n",
            "Есть статистически значимая разница \n",
            "t - критерий =  2.2844564093119684 \n",
            "p-value = 0.022449154011118945\n"
          ],
          "name": "stdout"
        }
      ]
    },
    {
      "cell_type": "markdown",
      "metadata": {
        "id": "hjpupdszkZm2",
        "colab_type": "text"
      },
      "source": [
        "**Вывод: видим, что уже при n = 10 три парных сравнения из 10 * (10 - 1) / 2 дали статистически значимые различия**"
      ]
    },
    {
      "cell_type": "markdown",
      "metadata": {
        "id": "3IwUBVRPhACN",
        "colab_type": "text"
      },
      "source": [
        "2. Сравните больше 10 выборок с неравными средними и сигмой между собой, используя\n",
        "поправку Бонферрони (разницу можете пробовать любую, от небольшой до реально\n",
        "большого различия). Что получилось? А теперь сравните результат со сравнением того\n",
        "же числа выборок, но используя поправку Холма - Бонферрони."
      ]
    },
    {
      "cell_type": "code",
      "metadata": {
        "id": "wiStac_Dhbc1",
        "colab_type": "code",
        "colab": {}
      },
      "source": [
        "# преобразуем входные данные и фунцию, показывающую различия:\n",
        "\n",
        "n = 15 # количество сгенерированных выборок\n",
        "mean_diff = 0.1 # шаг между средними\n",
        "sigma_diff = 0.1 # шаг между дисперсиями\n",
        "ex = [0]*n\n",
        "\n",
        "for i in range(n):\n",
        "  ex[i] = np.random.normal(10 + i*mean_diff, 2 + i*sigma_diff, 100)"
      ],
      "execution_count": 0,
      "outputs": []
    },
    {
      "cell_type": "code",
      "metadata": {
        "id": "VzsIFYgAssLl",
        "colab_type": "code",
        "colab": {}
      },
      "source": [
        "def ttest(a,b):\n",
        "    mean_diff = np.mean(a) - np.mean(b)\n",
        "    n1 = len(a)\n",
        "    n2 = len(b)\n",
        "    sd_a = np.sqrt(np.var(a,ddof = 1))\n",
        "    sd_b = np.sqrt(np.var(b,ddof = 1))\n",
        "    sem = np.sqrt(sd_a**2/n1 + sd_b**2/n2)\n",
        "    t = mean_diff/sem\n",
        "    df = (n1 + n2) - 2\n",
        "    p = stats.t.cdf(-abs(t), df) * 2\n",
        "    N = n*(n-1)/2\n",
        "    if p > 0.05/N:\n",
        "        pass\n",
        "        #print(i, j)\n",
        "        #print('Нет статистически значимой разницы','\\nt - критерий = ',t,'\\np-value =',p)\n",
        "    else:\n",
        "        #pass\n",
        "        print(i, j)\n",
        "        print('Есть статистически значимая разница','\\nt - критерий = ',t,'\\np-value =',p)\n",
        " \n",
        "    return "
      ],
      "execution_count": 0,
      "outputs": []
    },
    {
      "cell_type": "code",
      "metadata": {
        "id": "1H6fBm5jsx2L",
        "colab_type": "code",
        "colab": {
          "base_uri": "https://localhost:8080/",
          "height": 221
        },
        "outputId": "585d0520-3fb4-4c7c-be43-5b6fde26ec28"
      },
      "source": [
        "for i in range(n):\n",
        "  for j in range(i, n):\n",
        "    if i != j:\n",
        "      ttest(ex[i],ex[j])"
      ],
      "execution_count": 196,
      "outputs": [
        {
          "output_type": "stream",
          "text": [
            "1 11\n",
            "Есть статистически значимая разница \n",
            "t - критерий =  -3.5655848005470943 \n",
            "p-value = 0.0004551493990910549\n",
            "1 13\n",
            "Есть статистически значимая разница \n",
            "t - критерий =  -3.5926908764394807 \n",
            "p-value = 0.0004129249847167904\n",
            "1 14\n",
            "Есть статистически значимая разница \n",
            "t - критерий =  -3.6259200621302714 \n",
            "p-value = 0.0003661878942399196\n"
          ],
          "name": "stdout"
        }
      ]
    },
    {
      "cell_type": "markdown",
      "metadata": {
        "id": "fy52kn2awgFn",
        "colab_type": "text"
      },
      "source": [
        "**Вывод: статистически значимые результаты появляются только при достаточно большой разнице между средними, для выявления требуется слишком маленький p-value**"
      ]
    },
    {
      "cell_type": "markdown",
      "metadata": {
        "id": "gjvCL5O-C7Aw",
        "colab_type": "text"
      },
      "source": [
        "Снова переопределим нашу функцию, чтобы посчитать уже с поправкой Холма-Бонферрони:"
      ]
    },
    {
      "cell_type": "code",
      "metadata": {
        "id": "OUsdJFTx6_iV",
        "colab_type": "code",
        "colab": {}
      },
      "source": [
        "def ttest(a,b):\n",
        "    mean_diff = np.mean(a) - np.mean(b)\n",
        "    n1 = len(a)\n",
        "    n2 = len(b)\n",
        "    sd_a = np.sqrt(np.var(a,ddof = 1))\n",
        "    sd_b = np.sqrt(np.var(b,ddof = 1))\n",
        "    sem = np.sqrt(sd_a**2/n1 + sd_b**2/n2)\n",
        "    t = mean_diff/sem\n",
        "    df = (n1 + n2) - 2\n",
        "    return stats.t.cdf(-abs(t), df) * 2 "
      ],
      "execution_count": 0,
      "outputs": []
    },
    {
      "cell_type": "code",
      "metadata": {
        "id": "TbnX4GgH6W6V",
        "colab_type": "code",
        "colab": {}
      },
      "source": [
        "# Рассмотрим те же данные\n",
        "# Получим список p-value попарных сравнений:\n",
        "\n",
        "values = []\n",
        "\n",
        "for i in range(n):\n",
        "  for j in range(i, n):\n",
        "    if i != j:\n",
        "      values.append(ttest(ex[i], ex[j]))"
      ],
      "execution_count": 0,
      "outputs": []
    },
    {
      "cell_type": "code",
      "metadata": {
        "id": "TNgh0Gf46QSZ",
        "colab_type": "code",
        "colab": {}
      },
      "source": [
        "sort_values = sorted(values)"
      ],
      "execution_count": 0,
      "outputs": []
    },
    {
      "cell_type": "code",
      "metadata": {
        "id": "t-B1dblx7n5I",
        "colab_type": "code",
        "colab": {}
      },
      "source": [
        "def Holm_Bonferroni(data):\n",
        "    for i in data:\n",
        "        if i < 0.05/(len(data) - (data.index(i) + 1) + 1):\n",
        "            print ('Не можем  принять гипотезу H0','\\ncorrected_p_value=',i/(len(data) - (data.index(i) + 1) + 1))\n",
        "            print ('p_value=', i)\n",
        "        else:\n",
        "            pass\n",
        "            #print('Не можем отклонить гипотезу H0','\\ncorrected_p_value=',i/(len(data) - (data.index(i) + 1) + 1))\n",
        "            #print ('p_value=', i)"
      ],
      "execution_count": 0,
      "outputs": []
    },
    {
      "cell_type": "code",
      "metadata": {
        "id": "8Rp-QQyM7qXc",
        "colab_type": "code",
        "colab": {
          "base_uri": "https://localhost:8080/",
          "height": 221
        },
        "outputId": "910189be-8e87-4ff6-9192-5cbd259779d6"
      },
      "source": [
        "Holm_Bonferroni(sort_values)"
      ],
      "execution_count": 201,
      "outputs": [
        {
          "output_type": "stream",
          "text": [
            "Не можем  принять гипотезу H0 \n",
            "corrected_p_value= 3.487503754665901e-06\n",
            "p_value= 0.0003661878942399196\n",
            "Не можем  принять гипотезу H0 \n",
            "corrected_p_value= 3.970432545353754e-06\n",
            "p_value= 0.0004129249847167904\n",
            "Не можем  принять гипотезу H0 \n",
            "corrected_p_value= 4.418926204767524e-06\n",
            "p_value= 0.0004551493990910549\n",
            "Не можем  принять гипотезу H0 \n",
            "corrected_p_value= 4.796934376486766e-06\n",
            "p_value= 0.0004892873064016502\n"
          ],
          "name": "stdout"
        }
      ]
    },
    {
      "cell_type": "markdown",
      "metadata": {
        "id": "frPrYcMM9wX0",
        "colab_type": "text"
      },
      "source": [
        "**Вывод: удивительно, но поправка Холма-Бонферрони работает примерно также, как и поправка Бонферрони, проверено на нескольких рандомных выборках. Пришлось много раз сгенерировать выборки, чтобы поправка Холма-Бонферрони дала больше статистически значимых различий между парами. Таким образом, действительно можно сказать, что она немного слабее, чем поправка Бонферрони**"
      ]
    }
  ]
}