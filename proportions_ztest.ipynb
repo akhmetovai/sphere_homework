{
  "nbformat": 4,
  "nbformat_minor": 0,
  "metadata": {
    "colab": {
      "name": "proportions_ztest",
      "provenance": [],
      "toc_visible": true
    },
    "kernelspec": {
      "name": "python3",
      "display_name": "Python 3"
    }
  },
  "cells": [
    {
      "cell_type": "markdown",
      "metadata": {
        "id": "8xDf8nyOLnu5",
        "colab_type": "text"
      },
      "source": [
        "# Домашнее задание"
      ]
    },
    {
      "cell_type": "markdown",
      "metadata": {
        "id": "c3I70PeTLsif",
        "colab_type": "text"
      },
      "source": [
        "Реализовать проверку правосторонней, левосторонней, двусторонней гипотезы с помощью z - критерия для пропорций.\n",
        "* Выборки можно генерить, но должна быть логика, то есть смоделирована ситуация для проверки гипотезы.\n",
        "* Свой код + любая блиблиотека для проверки\n",
        "* Баллы - 10 баллов"
      ]
    },
    {
      "cell_type": "markdown",
      "metadata": {
        "id": "6-qAXoHqL4-x",
        "colab_type": "text"
      },
      "source": [
        "Реализация statsmodels https://www.statsmodels.org/stable/generated/statsmodels.stats.proportion.proportions_ztest.html"
      ]
    },
    {
      "cell_type": "code",
      "metadata": {
        "id": "6kS-rbyGLw3V",
        "colab_type": "code",
        "colab": {}
      },
      "source": [
        "import numpy as np\n",
        "from statsmodels.stats.proportion import proportions_ztest\n",
        "import scipy.stats as stats"
      ],
      "execution_count": 0,
      "outputs": []
    },
    {
      "cell_type": "code",
      "metadata": {
        "id": "u2ZycRe9Lxbp",
        "colab_type": "code",
        "colab": {}
      },
      "source": [
        "# Пример:\n",
        "# Пусть разработали вакцину от коронавируса, и проверяют две группы, хотят понять значимо ли различие в двух группах\n",
        "\n",
        "# В первой группе вылечилось 5 из 83 пациентов, во второй 16 из 99\n",
        "counts = np.array([16, 5])\n",
        "nobs = np.array([99, 83])"
      ],
      "execution_count": 0,
      "outputs": []
    },
    {
      "cell_type": "code",
      "metadata": {
        "id": "LI95I_11L0hc",
        "colab_type": "code",
        "colab": {}
      },
      "source": [
        "# Реализуем двухвыборочный Z-тест\n",
        "\n",
        "def my_proportions_ztest(counts, nobs, alternative):\n",
        "\n",
        "  P1 = counts[0]/nobs[0]\n",
        "  P2 = counts[1]/nobs[1]\n",
        "  Pc = counts.sum()/nobs.sum()\n",
        "  Z = (P1 - P2)/(Pc*(1-Pc)*(1/nobs[0] + 1/nobs[1]))**(0.5)\n",
        "  \n",
        "  if alternative in ['two-sided']:\n",
        "    p = (1 - stats.norm.cdf(abs(Z)))*2\n",
        "  elif alternative in ['larger']:\n",
        "    p = 1 - stats.norm.cdf(Z)\n",
        "  elif alternative in ['smaller']:\n",
        "    p = stats.norm.cdf(Z)\n",
        "  \n",
        "  return Z, p"
      ],
      "execution_count": 0,
      "outputs": []
    },
    {
      "cell_type": "code",
      "metadata": {
        "id": "eggVBYKHL3D5",
        "colab_type": "code",
        "outputId": "5c22f335-c95e-48b0-e1c3-3f1897e7f42d",
        "colab": {
          "base_uri": "https://localhost:8080/",
          "height": 323
        }
      },
      "source": [
        "# Нулевая гипотеза - значимых различий нет\n",
        "# Проверим нашу функцию на альтернативных гипотезах в сравнении с proportions_ztest из statsmodels.stats.proportion\n",
        "\n",
        "alternatives = ['two-sided', 'larger', 'smaller']\n",
        "\n",
        "for alt in alternatives:\n",
        "  stat, pval = proportions_ztest(counts, nobs, alternative=alt)\n",
        "  Z, p = my_proportions_ztest(counts, nobs, alternative=alt)\n",
        "  print('alternative:', alt)\n",
        "  print('my_proportions_ztest result:')\n",
        "  print('z =', round(Z, 6), 'p =', round(p, 6))\n",
        "  print('proportions_ztest result from lib:')\n",
        "  print('z =', round(stat, 6), 'p =', round(pval, 6), '\\n')"
      ],
      "execution_count": 22,
      "outputs": [
        {
          "output_type": "stream",
          "text": [
            "alternative: two-sided\n",
            "my_proportions_ztest result:\n",
            "z = 2.13207 p = 0.033001\n",
            "proportions_ztest result from lib:\n",
            "z = 2.13207 p = 0.033001 \n",
            "\n",
            "alternative: larger\n",
            "my_proportions_ztest result:\n",
            "z = 2.13207 p = 0.016501\n",
            "proportions_ztest result from lib:\n",
            "z = 2.13207 p = 0.016501 \n",
            "\n",
            "alternative: smaller\n",
            "my_proportions_ztest result:\n",
            "z = 2.13207 p = 0.983499\n",
            "proportions_ztest result from lib:\n",
            "z = 2.13207 p = 0.983499 \n",
            "\n"
          ],
          "name": "stdout"
        }
      ]
    }
  ]
}