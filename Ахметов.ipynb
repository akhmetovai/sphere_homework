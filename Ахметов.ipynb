{
  "nbformat": 4,
  "nbformat_minor": 0,
  "metadata": {
    "colab": {
      "name": "Ахметов",
      "provenance": []
    },
    "kernelspec": {
      "name": "python3",
      "display_name": "Python 3"
    }
  },
  "cells": [
    {
      "cell_type": "code",
      "metadata": {
        "id": "c7gXPSZjfghx",
        "colab_type": "code",
        "colab": {
          "base_uri": "https://localhost:8080/",
          "height": 51
        },
        "outputId": "369b8b80-9bff-4b47-bd31-545191bd3f5b"
      },
      "source": [
        "n = int(input())\n",
        "\n",
        "prev = 1\n",
        "fib = 0\n",
        "\n",
        "for i in range(n):\n",
        "  prev, fib = fib, fib + prev\n",
        "\n",
        "print(fib)"
      ],
      "execution_count": 1,
      "outputs": [
        {
          "output_type": "stream",
          "text": [
            "6\n",
            "8\n"
          ],
          "name": "stdout"
        }
      ]
    },
    {
      "cell_type": "code",
      "metadata": {
        "id": "nQCylVCFfoyD",
        "colab_type": "code",
        "colab": {
          "base_uri": "https://localhost:8080/",
          "height": 51
        },
        "outputId": "5bf2e573-0b10-405c-f739-c31055807b5f"
      },
      "source": [
        "import numpy as np\n",
        "\n",
        "arr = np.array(list(map(int, input().split())))\n",
        "arr = np.insert(arr, range(1, len(arr)), 0)\n",
        "print(arr)"
      ],
      "execution_count": 2,
      "outputs": [
        {
          "output_type": "stream",
          "text": [
            "1 2 3 4\n",
            "[1 0 2 0 3 0 4]\n"
          ],
          "name": "stdout"
        }
      ]
    }
  ]
}